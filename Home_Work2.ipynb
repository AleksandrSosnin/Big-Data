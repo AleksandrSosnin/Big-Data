{
  "cells": [
    {
      "cell_type": "markdown",
      "metadata": {
        "id": "view-in-github",
        "colab_type": "text"
      },
      "source": [
        "<a href=\"https://colab.research.google.com/github/AleksandrSosnin/Big-Data/blob/main/Home_Work2.ipynb\" target=\"_parent\"><img src=\"https://colab.research.google.com/assets/colab-badge.svg\" alt=\"Open In Colab\"/></a>"
      ]
    },
    {
      "cell_type": "code",
      "source": [
        "from google.colab import files\n",
        "\n",
        "\n",
        "uploaded = files.upload()"
      ],
      "metadata": {
        "colab": {
          "base_uri": "https://localhost:8080/",
          "height": 73
        },
        "id": "xrEx_twiOrQV",
        "outputId": "1caf9dfd-999e-4f57-e11b-e73fed862898"
      },
      "execution_count": 1,
      "outputs": [
        {
          "output_type": "display_data",
          "data": {
            "text/plain": [
              "<IPython.core.display.HTML object>"
            ],
            "text/html": [
              "\n",
              "     <input type=\"file\" id=\"files-82da8a95-fdcb-44df-bd4b-1b5e8903c6f3\" name=\"files[]\" multiple disabled\n",
              "        style=\"border:none\" />\n",
              "     <output id=\"result-82da8a95-fdcb-44df-bd4b-1b5e8903c6f3\">\n",
              "      Upload widget is only available when the cell has been executed in the\n",
              "      current browser session. Please rerun this cell to enable.\n",
              "      </output>\n",
              "      <script>// Copyright 2017 Google LLC\n",
              "//\n",
              "// Licensed under the Apache License, Version 2.0 (the \"License\");\n",
              "// you may not use this file except in compliance with the License.\n",
              "// You may obtain a copy of the License at\n",
              "//\n",
              "//      http://www.apache.org/licenses/LICENSE-2.0\n",
              "//\n",
              "// Unless required by applicable law or agreed to in writing, software\n",
              "// distributed under the License is distributed on an \"AS IS\" BASIS,\n",
              "// WITHOUT WARRANTIES OR CONDITIONS OF ANY KIND, either express or implied.\n",
              "// See the License for the specific language governing permissions and\n",
              "// limitations under the License.\n",
              "\n",
              "/**\n",
              " * @fileoverview Helpers for google.colab Python module.\n",
              " */\n",
              "(function(scope) {\n",
              "function span(text, styleAttributes = {}) {\n",
              "  const element = document.createElement('span');\n",
              "  element.textContent = text;\n",
              "  for (const key of Object.keys(styleAttributes)) {\n",
              "    element.style[key] = styleAttributes[key];\n",
              "  }\n",
              "  return element;\n",
              "}\n",
              "\n",
              "// Max number of bytes which will be uploaded at a time.\n",
              "const MAX_PAYLOAD_SIZE = 100 * 1024;\n",
              "\n",
              "function _uploadFiles(inputId, outputId) {\n",
              "  const steps = uploadFilesStep(inputId, outputId);\n",
              "  const outputElement = document.getElementById(outputId);\n",
              "  // Cache steps on the outputElement to make it available for the next call\n",
              "  // to uploadFilesContinue from Python.\n",
              "  outputElement.steps = steps;\n",
              "\n",
              "  return _uploadFilesContinue(outputId);\n",
              "}\n",
              "\n",
              "// This is roughly an async generator (not supported in the browser yet),\n",
              "// where there are multiple asynchronous steps and the Python side is going\n",
              "// to poll for completion of each step.\n",
              "// This uses a Promise to block the python side on completion of each step,\n",
              "// then passes the result of the previous step as the input to the next step.\n",
              "function _uploadFilesContinue(outputId) {\n",
              "  const outputElement = document.getElementById(outputId);\n",
              "  const steps = outputElement.steps;\n",
              "\n",
              "  const next = steps.next(outputElement.lastPromiseValue);\n",
              "  return Promise.resolve(next.value.promise).then((value) => {\n",
              "    // Cache the last promise value to make it available to the next\n",
              "    // step of the generator.\n",
              "    outputElement.lastPromiseValue = value;\n",
              "    return next.value.response;\n",
              "  });\n",
              "}\n",
              "\n",
              "/**\n",
              " * Generator function which is called between each async step of the upload\n",
              " * process.\n",
              " * @param {string} inputId Element ID of the input file picker element.\n",
              " * @param {string} outputId Element ID of the output display.\n",
              " * @return {!Iterable<!Object>} Iterable of next steps.\n",
              " */\n",
              "function* uploadFilesStep(inputId, outputId) {\n",
              "  const inputElement = document.getElementById(inputId);\n",
              "  inputElement.disabled = false;\n",
              "\n",
              "  const outputElement = document.getElementById(outputId);\n",
              "  outputElement.innerHTML = '';\n",
              "\n",
              "  const pickedPromise = new Promise((resolve) => {\n",
              "    inputElement.addEventListener('change', (e) => {\n",
              "      resolve(e.target.files);\n",
              "    });\n",
              "  });\n",
              "\n",
              "  const cancel = document.createElement('button');\n",
              "  inputElement.parentElement.appendChild(cancel);\n",
              "  cancel.textContent = 'Cancel upload';\n",
              "  const cancelPromise = new Promise((resolve) => {\n",
              "    cancel.onclick = () => {\n",
              "      resolve(null);\n",
              "    };\n",
              "  });\n",
              "\n",
              "  // Wait for the user to pick the files.\n",
              "  const files = yield {\n",
              "    promise: Promise.race([pickedPromise, cancelPromise]),\n",
              "    response: {\n",
              "      action: 'starting',\n",
              "    }\n",
              "  };\n",
              "\n",
              "  cancel.remove();\n",
              "\n",
              "  // Disable the input element since further picks are not allowed.\n",
              "  inputElement.disabled = true;\n",
              "\n",
              "  if (!files) {\n",
              "    return {\n",
              "      response: {\n",
              "        action: 'complete',\n",
              "      }\n",
              "    };\n",
              "  }\n",
              "\n",
              "  for (const file of files) {\n",
              "    const li = document.createElement('li');\n",
              "    li.append(span(file.name, {fontWeight: 'bold'}));\n",
              "    li.append(span(\n",
              "        `(${file.type || 'n/a'}) - ${file.size} bytes, ` +\n",
              "        `last modified: ${\n",
              "            file.lastModifiedDate ? file.lastModifiedDate.toLocaleDateString() :\n",
              "                                    'n/a'} - `));\n",
              "    const percent = span('0% done');\n",
              "    li.appendChild(percent);\n",
              "\n",
              "    outputElement.appendChild(li);\n",
              "\n",
              "    const fileDataPromise = new Promise((resolve) => {\n",
              "      const reader = new FileReader();\n",
              "      reader.onload = (e) => {\n",
              "        resolve(e.target.result);\n",
              "      };\n",
              "      reader.readAsArrayBuffer(file);\n",
              "    });\n",
              "    // Wait for the data to be ready.\n",
              "    let fileData = yield {\n",
              "      promise: fileDataPromise,\n",
              "      response: {\n",
              "        action: 'continue',\n",
              "      }\n",
              "    };\n",
              "\n",
              "    // Use a chunked sending to avoid message size limits. See b/62115660.\n",
              "    let position = 0;\n",
              "    do {\n",
              "      const length = Math.min(fileData.byteLength - position, MAX_PAYLOAD_SIZE);\n",
              "      const chunk = new Uint8Array(fileData, position, length);\n",
              "      position += length;\n",
              "\n",
              "      const base64 = btoa(String.fromCharCode.apply(null, chunk));\n",
              "      yield {\n",
              "        response: {\n",
              "          action: 'append',\n",
              "          file: file.name,\n",
              "          data: base64,\n",
              "        },\n",
              "      };\n",
              "\n",
              "      let percentDone = fileData.byteLength === 0 ?\n",
              "          100 :\n",
              "          Math.round((position / fileData.byteLength) * 100);\n",
              "      percent.textContent = `${percentDone}% done`;\n",
              "\n",
              "    } while (position < fileData.byteLength);\n",
              "  }\n",
              "\n",
              "  // All done.\n",
              "  yield {\n",
              "    response: {\n",
              "      action: 'complete',\n",
              "    }\n",
              "  };\n",
              "}\n",
              "\n",
              "scope.google = scope.google || {};\n",
              "scope.google.colab = scope.google.colab || {};\n",
              "scope.google.colab._files = {\n",
              "  _uploadFiles,\n",
              "  _uploadFilesContinue,\n",
              "};\n",
              "})(self);\n",
              "</script> "
            ]
          },
          "metadata": {}
        },
        {
          "output_type": "stream",
          "name": "stdout",
          "text": [
            "Saving AB_NYC_2019.csv to AB_NYC_2019.csv\n"
          ]
        }
      ]
    },
    {
      "cell_type": "code",
      "source": [
        "\n",
        "import pandas as pd\n",
        "import io\n",
        "\n",
        "df = pd.read_csv(io.BytesIO(uploaded['AB_NYC_2019.csv']))\n",
        "print(df)"
      ],
      "metadata": {
        "colab": {
          "base_uri": "https://localhost:8080/"
        },
        "id": "LgAC-Fi5O3mk",
        "outputId": "3830d231-e6a3-436d-fef6-a21b03f2b062"
      },
      "execution_count": 2,
      "outputs": [
        {
          "output_type": "stream",
          "name": "stdout",
          "text": [
            "             id                                               name   host_id  \\\n",
            "0          2539                 Clean & quiet apt home by the park      2787   \n",
            "1          2595                              Skylit Midtown Castle      2845   \n",
            "2          3647                THE VILLAGE OF HARLEM....NEW YORK !      4632   \n",
            "3          3831                    Cozy Entire Floor of Brownstone      4869   \n",
            "4          5022   Entire Apt: Spacious Studio/Loft by central park      7192   \n",
            "...         ...                                                ...       ...   \n",
            "48890  36484665    Charming one bedroom - newly renovated rowhouse   8232441   \n",
            "48891  36485057      Affordable room in Bushwick/East Williamsburg   6570630   \n",
            "48892  36485431            Sunny Studio at Historical Neighborhood  23492952   \n",
            "48893  36485609               43rd St. Time Square-cozy single bed  30985759   \n",
            "48894  36487245  Trendy duplex in the very heart of Hell's Kitchen  68119814   \n",
            "\n",
            "           host_name neighbourhood_group       neighbourhood  latitude  \\\n",
            "0               John            Brooklyn          Kensington  40.64749   \n",
            "1           Jennifer           Manhattan             Midtown  40.75362   \n",
            "2          Elisabeth           Manhattan              Harlem  40.80902   \n",
            "3        LisaRoxanne            Brooklyn        Clinton Hill  40.68514   \n",
            "4              Laura           Manhattan         East Harlem  40.79851   \n",
            "...              ...                 ...                 ...       ...   \n",
            "48890        Sabrina            Brooklyn  Bedford-Stuyvesant  40.67853   \n",
            "48891        Marisol            Brooklyn            Bushwick  40.70184   \n",
            "48892  Ilgar & Aysel           Manhattan              Harlem  40.81475   \n",
            "48893            Taz           Manhattan      Hell's Kitchen  40.75751   \n",
            "48894     Christophe           Manhattan      Hell's Kitchen  40.76404   \n",
            "\n",
            "       longitude        room_type  price  minimum_nights  number_of_reviews  \\\n",
            "0      -73.97237     Private room    149               1                  9   \n",
            "1      -73.98377  Entire home/apt    225               1                 45   \n",
            "2      -73.94190     Private room    150               3                  0   \n",
            "3      -73.95976  Entire home/apt     89               1                270   \n",
            "4      -73.94399  Entire home/apt     80              10                  9   \n",
            "...          ...              ...    ...             ...                ...   \n",
            "48890  -73.94995     Private room     70               2                  0   \n",
            "48891  -73.93317     Private room     40               4                  0   \n",
            "48892  -73.94867  Entire home/apt    115              10                  0   \n",
            "48893  -73.99112      Shared room     55               1                  0   \n",
            "48894  -73.98933     Private room     90               7                  0   \n",
            "\n",
            "      last_review  reviews_per_month  calculated_host_listings_count  \\\n",
            "0      2018-10-19               0.21                               6   \n",
            "1      2019-05-21               0.38                               2   \n",
            "2             NaN                NaN                               1   \n",
            "3      2019-07-05               4.64                               1   \n",
            "4      2018-11-19               0.10                               1   \n",
            "...           ...                ...                             ...   \n",
            "48890         NaN                NaN                               2   \n",
            "48891         NaN                NaN                               2   \n",
            "48892         NaN                NaN                               1   \n",
            "48893         NaN                NaN                               6   \n",
            "48894         NaN                NaN                               1   \n",
            "\n",
            "       availability_365  \n",
            "0                   365  \n",
            "1                   355  \n",
            "2                   365  \n",
            "3                   194  \n",
            "4                     0  \n",
            "...                 ...  \n",
            "48890                 9  \n",
            "48891                36  \n",
            "48892                27  \n",
            "48893                 2  \n",
            "48894                23  \n",
            "\n",
            "[48895 rows x 16 columns]\n"
          ]
        }
      ]
    },
    {
      "cell_type": "code",
      "source": [
        "import csv\n",
        "\n",
        "# Функция маппера\n",
        "def mapper(file_path):\n",
        "    with open(file_path, 'r') as f:\n",
        "        reader = csv.reader(f)\n",
        "        next(reader)  # Пропуск заголовка\n",
        "        for row in reader:\n",
        "            try:\n",
        "                price = float(row[9])  # Столбец с ценой (10-й)\n",
        "                yield 1, price  # Возвращаем единичный счетчик и цену\n",
        "            except ValueError:\n",
        "                continue  # Пропуск строк с некорректными данными\n"
      ],
      "metadata": {
        "id": "QouWqyFLQXsS"
      },
      "execution_count": 3,
      "outputs": []
    },
    {
      "cell_type": "code",
      "source": [
        "# Функция редьюсера\n",
        "def reducer(mapped_data):\n",
        "    n = 0\n",
        "    mean = 0.0\n",
        "    M2 = 0.0\n",
        "\n",
        "    for count, price in mapped_data:\n",
        "        n += count\n",
        "        delta = price - mean\n",
        "        mean += delta / n\n",
        "        M2 += delta * (price - mean)\n",
        "\n",
        "    if n > 1:\n",
        "        variance = M2 / (n - 1)\n",
        "    else:\n",
        "        variance = 0.0\n",
        "\n",
        "    return mean, variance\n"
      ],
      "metadata": {
        "id": "zWVFaEcOQZjr"
      },
      "execution_count": 4,
      "outputs": []
    },
    {
      "cell_type": "code",
      "source": [
        "# Путь к загруженному файлу\n",
        "file_path = 'AB_NYC_2019.csv'\n",
        "\n",
        "# Шаг 1: Выполняем маппинг\n",
        "mapped_data = list(mapper(file_path))\n",
        "\n",
        "# Шаг 2: Выполняем редукцию\n",
        "mean_price, variance_price = reducer(mapped_data)\n",
        "\n",
        "# Выводим результаты\n",
        "print(f\"Средняя цена: {mean_price}\")\n",
        "print(f\"Дисперсия цены: {variance_price}\")\n"
      ],
      "metadata": {
        "colab": {
          "base_uri": "https://localhost:8080/"
        },
        "id": "HQdgpwsXQcpJ",
        "outputId": "9118d643-9bcf-47f0-fc66-f6bd7f9d5d19"
      },
      "execution_count": 5,
      "outputs": [
        {
          "output_type": "stream",
          "name": "stdout",
          "text": [
            "Средняя цена: 152.72068718682823\n",
            "Дисперсия цены: 57674.02524696077\n"
          ]
        }
      ]
    },
    {
      "cell_type": "code",
      "source": [
        "# Вычисляем среднее и дисперсию с использованием pandas\n",
        "mean_python = df['price'].mean()\n",
        "variance_python = df['price'].var()\n",
        "\n",
        "# Выводим результаты\n",
        "print(f\"Средняя цена (Python): {mean_python}\")\n",
        "print(f\"Дисперсия цены (Python): {variance_python}\")\n"
      ],
      "metadata": {
        "colab": {
          "base_uri": "https://localhost:8080/"
        },
        "id": "YoKnZO0GQner",
        "outputId": "0342c570-3177-493c-90c7-82c5339fc1c4"
      },
      "execution_count": 6,
      "outputs": [
        {
          "output_type": "stream",
          "name": "stdout",
          "text": [
            "Средняя цена (Python): 152.7206871868289\n",
            "Дисперсия цены (Python): 57674.02524696099\n"
          ]
        }
      ]
    },
    {
      "cell_type": "code",
      "source": [
        "# SQL-запрос для подсчета средней и дисперсии:\n",
        "# SELECT AVG(price), VARIANCE(price) FROM airbnb_listings;"
      ],
      "metadata": {
        "id": "hZL0kVXXQr2T"
      },
      "execution_count": null,
      "outputs": []
    }
  ],
  "metadata": {
    "kernelspec": {
      "display_name": "Python 3",
      "language": "python",
      "name": "python3"
    },
    "language_info": {
      "name": "python",
      "version": "3.11.9"
    },
    "colab": {
      "provenance": [],
      "include_colab_link": true
    }
  },
  "nbformat": 4,
  "nbformat_minor": 0
}